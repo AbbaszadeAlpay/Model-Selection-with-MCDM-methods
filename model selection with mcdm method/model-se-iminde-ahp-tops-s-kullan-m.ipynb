{
 "cells": [
  {
   "cell_type": "markdown",
   "id": "476cbe2e",
   "metadata": {
    "_execution_state": "idle",
    "_uuid": "051d70d956493feee0c6d64651c6a088724dca2a",
    "papermill": {
     "duration": 0.083047,
     "end_time": "2022-07-06T16:11:14.021360",
     "exception": false,
     "start_time": "2022-07-06T16:11:13.938313",
     "status": "completed"
    },
    "tags": []
   },
   "source": [
    "# AHP-TOPSIS ile model seçimi"
   ]
  },
  {
   "cell_type": "markdown",
   "id": "e58607e0",
   "metadata": {
    "papermill": {
     "duration": 0.08126,
     "end_time": "2022-07-06T16:11:14.182134",
     "exception": false,
     "start_time": "2022-07-06T16:11:14.100874",
     "status": "completed"
    },
    "tags": []
   },
   "source": [
    "Makine öğrenmesinde model seçimi çok önemli konulardan biridir. Model seçimi için birçok metrik kullanılmaktadır. Problemin yapısına ve amaca uygun bir metrik seçilerek modeller karşılaştırıla bilir. Peki tüm metrikleri kullanarak bir model seçimi yapmak istersek bunu nasıl yaparız? İşte bu kernelde sizlere bütün metrikleri kullanarak bir model nasıl seçilir onu göstereceğim.\n",
    "\n",
    "Problemimiz bir regresyon problemi olsun. Regresyon problemlerinde kullanılan metrikler R squared, RMSE ve MAE değerleridir. Ben 10 tane regresyon algoritması kullanıcağım ve bu 3 metrikle birlikte her modelin eğitim hızınıda değerlendirerek 4 farklı kritere göre bu 10 model içinden en iyi modeli seçeceğim"
   ]
  },
  {
   "cell_type": "code",
   "execution_count": 1,
   "id": "dead28e0",
   "metadata": {
    "execution": {
     "iopub.execute_input": "2022-07-06T16:11:14.354425Z",
     "iopub.status.busy": "2022-07-06T16:11:14.353500Z",
     "iopub.status.idle": "2022-07-06T16:11:18.661188Z",
     "shell.execute_reply": "2022-07-06T16:11:18.658217Z"
    },
    "papermill": {
     "duration": 4.39626,
     "end_time": "2022-07-06T16:11:18.661444",
     "exception": false,
     "start_time": "2022-07-06T16:11:14.265184",
     "status": "completed"
    },
    "tags": []
   },
   "outputs": [
    {
     "name": "stderr",
     "output_type": "stream",
     "text": [
      "Loading required package: lattice\n",
      "\n",
      "Loading required package: ggplot2\n",
      "\n",
      "\n",
      "Attaching package: ‘caret’\n",
      "\n",
      "\n",
      "The following object is masked from ‘package:httr’:\n",
      "\n",
      "    progress\n",
      "\n",
      "\n",
      "── \u001b[1mAttaching packages\u001b[22m ─────────────────────────────────────── tidyverse 1.3.1 ──\n",
      "\n",
      "\u001b[32m✔\u001b[39m \u001b[34mtibble \u001b[39m 3.1.5     \u001b[32m✔\u001b[39m \u001b[34mdplyr  \u001b[39m 1.0.7\n",
      "\u001b[32m✔\u001b[39m \u001b[34mtidyr  \u001b[39m 1.1.4     \u001b[32m✔\u001b[39m \u001b[34mstringr\u001b[39m 1.4.0\n",
      "\u001b[32m✔\u001b[39m \u001b[34mreadr  \u001b[39m 2.0.2     \u001b[32m✔\u001b[39m \u001b[34mforcats\u001b[39m 0.5.1\n",
      "\u001b[32m✔\u001b[39m \u001b[34mpurrr  \u001b[39m 0.3.4     \n",
      "\n",
      "── \u001b[1mConflicts\u001b[22m ────────────────────────────────────────── tidyverse_conflicts() ──\n",
      "\u001b[31m✖\u001b[39m \u001b[34mdplyr\u001b[39m::\u001b[32mfilter()\u001b[39m   masks \u001b[34mstats\u001b[39m::filter()\n",
      "\u001b[31m✖\u001b[39m \u001b[34mdplyr\u001b[39m::\u001b[32mlag()\u001b[39m      masks \u001b[34mstats\u001b[39m::lag()\n",
      "\u001b[31m✖\u001b[39m \u001b[34mpurrr\u001b[39m::\u001b[32mlift()\u001b[39m     masks \u001b[34mcaret\u001b[39m::lift()\n",
      "\u001b[31m✖\u001b[39m \u001b[34mcaret\u001b[39m::\u001b[32mprogress()\u001b[39m masks \u001b[34mhttr\u001b[39m::progress()\n",
      "\n"
     ]
    }
   ],
   "source": [
    "library(caret)\n",
    "library(ahptopsis2n)\n",
    "library(tidyverse)\n"
   ]
  },
  {
   "cell_type": "markdown",
   "id": "47c72d2f",
   "metadata": {
    "papermill": {
     "duration": 0.086021,
     "end_time": "2022-07-06T16:11:18.834941",
     "exception": false,
     "start_time": "2022-07-06T16:11:18.748920",
     "status": "completed"
    },
    "tags": []
   },
   "source": [
    "Tidyverse kütüphanesi içersinde olan mpg veri setini kullanacağım. Veri ön işleme değişken seçimi gibi konulara girmeden direkt modellerimi oluşturup değerlendirmelerimi yapacağım."
   ]
  },
  {
   "cell_type": "code",
   "execution_count": 2,
   "id": "8ca22bf2",
   "metadata": {
    "execution": {
     "iopub.execute_input": "2022-07-06T16:11:19.057363Z",
     "iopub.status.busy": "2022-07-06T16:11:19.017916Z",
     "iopub.status.idle": "2022-07-06T16:11:19.109087Z",
     "shell.execute_reply": "2022-07-06T16:11:19.107285Z"
    },
    "papermill": {
     "duration": 0.187041,
     "end_time": "2022-07-06T16:11:19.109290",
     "exception": false,
     "start_time": "2022-07-06T16:11:18.922249",
     "status": "completed"
    },
    "tags": []
   },
   "outputs": [
    {
     "data": {
      "text/html": [
       "<table class=\"dataframe\">\n",
       "<caption>A tibble: 6 × 11</caption>\n",
       "<thead>\n",
       "\t<tr><th scope=col>manufacturer</th><th scope=col>model</th><th scope=col>displ</th><th scope=col>year</th><th scope=col>cyl</th><th scope=col>trans</th><th scope=col>drv</th><th scope=col>cty</th><th scope=col>hwy</th><th scope=col>fl</th><th scope=col>class</th></tr>\n",
       "\t<tr><th scope=col>&lt;chr&gt;</th><th scope=col>&lt;chr&gt;</th><th scope=col>&lt;dbl&gt;</th><th scope=col>&lt;int&gt;</th><th scope=col>&lt;int&gt;</th><th scope=col>&lt;chr&gt;</th><th scope=col>&lt;chr&gt;</th><th scope=col>&lt;int&gt;</th><th scope=col>&lt;int&gt;</th><th scope=col>&lt;chr&gt;</th><th scope=col>&lt;chr&gt;</th></tr>\n",
       "</thead>\n",
       "<tbody>\n",
       "\t<tr><td>audi</td><td>a4</td><td>1.8</td><td>1999</td><td>4</td><td>auto(l5)  </td><td>f</td><td>18</td><td>29</td><td>p</td><td>compact</td></tr>\n",
       "\t<tr><td>audi</td><td>a4</td><td>1.8</td><td>1999</td><td>4</td><td>manual(m5)</td><td>f</td><td>21</td><td>29</td><td>p</td><td>compact</td></tr>\n",
       "\t<tr><td>audi</td><td>a4</td><td>2.0</td><td>2008</td><td>4</td><td>manual(m6)</td><td>f</td><td>20</td><td>31</td><td>p</td><td>compact</td></tr>\n",
       "\t<tr><td>audi</td><td>a4</td><td>2.0</td><td>2008</td><td>4</td><td>auto(av)  </td><td>f</td><td>21</td><td>30</td><td>p</td><td>compact</td></tr>\n",
       "\t<tr><td>audi</td><td>a4</td><td>2.8</td><td>1999</td><td>6</td><td>auto(l5)  </td><td>f</td><td>16</td><td>26</td><td>p</td><td>compact</td></tr>\n",
       "\t<tr><td>audi</td><td>a4</td><td>2.8</td><td>1999</td><td>6</td><td>manual(m5)</td><td>f</td><td>18</td><td>26</td><td>p</td><td>compact</td></tr>\n",
       "</tbody>\n",
       "</table>\n"
      ],
      "text/latex": [
       "A tibble: 6 × 11\n",
       "\\begin{tabular}{lllllllllll}\n",
       " manufacturer & model & displ & year & cyl & trans & drv & cty & hwy & fl & class\\\\\n",
       " <chr> & <chr> & <dbl> & <int> & <int> & <chr> & <chr> & <int> & <int> & <chr> & <chr>\\\\\n",
       "\\hline\n",
       "\t audi & a4 & 1.8 & 1999 & 4 & auto(l5)   & f & 18 & 29 & p & compact\\\\\n",
       "\t audi & a4 & 1.8 & 1999 & 4 & manual(m5) & f & 21 & 29 & p & compact\\\\\n",
       "\t audi & a4 & 2.0 & 2008 & 4 & manual(m6) & f & 20 & 31 & p & compact\\\\\n",
       "\t audi & a4 & 2.0 & 2008 & 4 & auto(av)   & f & 21 & 30 & p & compact\\\\\n",
       "\t audi & a4 & 2.8 & 1999 & 6 & auto(l5)   & f & 16 & 26 & p & compact\\\\\n",
       "\t audi & a4 & 2.8 & 1999 & 6 & manual(m5) & f & 18 & 26 & p & compact\\\\\n",
       "\\end{tabular}\n"
      ],
      "text/markdown": [
       "\n",
       "A tibble: 6 × 11\n",
       "\n",
       "| manufacturer &lt;chr&gt; | model &lt;chr&gt; | displ &lt;dbl&gt; | year &lt;int&gt; | cyl &lt;int&gt; | trans &lt;chr&gt; | drv &lt;chr&gt; | cty &lt;int&gt; | hwy &lt;int&gt; | fl &lt;chr&gt; | class &lt;chr&gt; |\n",
       "|---|---|---|---|---|---|---|---|---|---|---|\n",
       "| audi | a4 | 1.8 | 1999 | 4 | auto(l5)   | f | 18 | 29 | p | compact |\n",
       "| audi | a4 | 1.8 | 1999 | 4 | manual(m5) | f | 21 | 29 | p | compact |\n",
       "| audi | a4 | 2.0 | 2008 | 4 | manual(m6) | f | 20 | 31 | p | compact |\n",
       "| audi | a4 | 2.0 | 2008 | 4 | auto(av)   | f | 21 | 30 | p | compact |\n",
       "| audi | a4 | 2.8 | 1999 | 6 | auto(l5)   | f | 16 | 26 | p | compact |\n",
       "| audi | a4 | 2.8 | 1999 | 6 | manual(m5) | f | 18 | 26 | p | compact |\n",
       "\n"
      ],
      "text/plain": [
       "  manufacturer model displ year cyl trans      drv cty hwy fl class  \n",
       "1 audi         a4    1.8   1999 4   auto(l5)   f   18  29  p  compact\n",
       "2 audi         a4    1.8   1999 4   manual(m5) f   21  29  p  compact\n",
       "3 audi         a4    2.0   2008 4   manual(m6) f   20  31  p  compact\n",
       "4 audi         a4    2.0   2008 4   auto(av)   f   21  30  p  compact\n",
       "5 audi         a4    2.8   1999 6   auto(l5)   f   16  26  p  compact\n",
       "6 audi         a4    2.8   1999 6   manual(m5) f   18  26  p  compact"
      ]
     },
     "metadata": {},
     "output_type": "display_data"
    }
   ],
   "source": [
    "df = mpg\n",
    "head(df)"
   ]
  },
  {
   "cell_type": "code",
   "execution_count": 3,
   "id": "1d11aaa6",
   "metadata": {
    "execution": {
     "iopub.execute_input": "2022-07-06T16:11:19.318628Z",
     "iopub.status.busy": "2022-07-06T16:11:19.314829Z",
     "iopub.status.idle": "2022-07-06T16:11:19.371738Z",
     "shell.execute_reply": "2022-07-06T16:11:19.369453Z"
    },
    "papermill": {
     "duration": 0.171721,
     "end_time": "2022-07-06T16:11:19.371946",
     "exception": false,
     "start_time": "2022-07-06T16:11:19.200225",
     "status": "completed"
    },
    "tags": []
   },
   "outputs": [],
   "source": [
    "df = df %>% mutate_if(is.character, as.factor)"
   ]
  },
  {
   "cell_type": "code",
   "execution_count": 4,
   "id": "7fab8b7d",
   "metadata": {
    "execution": {
     "iopub.execute_input": "2022-07-06T16:11:19.577945Z",
     "iopub.status.busy": "2022-07-06T16:11:19.576093Z",
     "iopub.status.idle": "2022-07-06T16:11:19.602010Z",
     "shell.execute_reply": "2022-07-06T16:11:19.600047Z"
    },
    "papermill": {
     "duration": 0.137036,
     "end_time": "2022-07-06T16:11:19.602267",
     "exception": false,
     "start_time": "2022-07-06T16:11:19.465231",
     "status": "completed"
    },
    "tags": []
   },
   "outputs": [],
   "source": [
    "set.seed(1255)\n",
    "indeks = sample(1:nrow(df), size = 0.8*nrow(df))\n",
    "train = df[indeks, ]\n",
    "test = df[-indeks, ]"
   ]
  },
  {
   "cell_type": "markdown",
   "id": "c9afb71f",
   "metadata": {
    "papermill": {
     "duration": 0.094889,
     "end_time": "2022-07-06T16:11:19.810157",
     "exception": false,
     "start_time": "2022-07-06T16:11:19.715268",
     "status": "completed"
    },
    "tags": []
   },
   "source": [
    "Bu çalışmada cty değişkeni 10 farklı makine öğrenmesi modeli ile tahmin edilecektir"
   ]
  },
  {
   "cell_type": "markdown",
   "id": "271b0e4f",
   "metadata": {
    "papermill": {
     "duration": 0.107946,
     "end_time": "2022-07-06T16:11:20.021401",
     "exception": false,
     "start_time": "2022-07-06T16:11:19.913455",
     "status": "completed"
    },
    "tags": []
   },
   "source": [
    "# Linear Model"
   ]
  },
  {
   "cell_type": "code",
   "execution_count": 5,
   "id": "013d56f8",
   "metadata": {
    "execution": {
     "iopub.execute_input": "2022-07-06T16:11:20.226553Z",
     "iopub.status.busy": "2022-07-06T16:11:20.224145Z",
     "iopub.status.idle": "2022-07-06T16:11:21.368987Z",
     "shell.execute_reply": "2022-07-06T16:11:21.367351Z"
    },
    "papermill": {
     "duration": 1.250294,
     "end_time": "2022-07-06T16:11:21.369177",
     "exception": false,
     "start_time": "2022-07-06T16:11:20.118883",
     "status": "completed"
    },
    "tags": []
   },
   "outputs": [
    {
     "name": "stderr",
     "output_type": "stream",
     "text": [
      "Warning message in predict.lm(modelFit, newdata):\n",
      "“prediction from a rank-deficient fit may be misleading”\n",
      "Warning message in predict.lm(modelFit, newdata):\n",
      "“prediction from a rank-deficient fit may be misleading”\n",
      "Warning message in predict.lm(modelFit, newdata):\n",
      "“prediction from a rank-deficient fit may be misleading”\n",
      "Warning message in predict.lm(modelFit, newdata):\n",
      "“prediction from a rank-deficient fit may be misleading”\n",
      "Warning message in predict.lm(modelFit, newdata):\n",
      "“prediction from a rank-deficient fit may be misleading”\n",
      "Warning message in predict.lm(modelFit, newdata):\n",
      "“prediction from a rank-deficient fit may be misleading”\n"
     ]
    }
   ],
   "source": [
    "lm_start = Sys.time()\n",
    "lm_model = train(cty~., data = train,\n",
    "                  method = 'lm',\n",
    "                  trControl = trainControl(method = 'cv', number = 5))\n",
    "\n",
    "lm_end = Sys.time()\n",
    "lm_time = as.numeric(lm_end - lm_start)\n",
    "tahminlm = predict(lm_model, test)\n",
    "\n",
    "Lm = data.frame(R2 = R2(tahminlm, test$cty),\n",
    "                 MAE = MAE(tahminlm, test$cty),\n",
    "                 RMSE = RMSE(tahminlm, test$cty),\n",
    "                 Time = lm_time)\n",
    "rownames(Lm) = 'LinearModel'"
   ]
  },
  {
   "cell_type": "markdown",
   "id": "5d37c99e",
   "metadata": {
    "papermill": {
     "duration": 0.102301,
     "end_time": "2022-07-06T16:11:21.573375",
     "exception": false,
     "start_time": "2022-07-06T16:11:21.471074",
     "status": "completed"
    },
    "tags": []
   },
   "source": [
    "# Lasso Model"
   ]
  },
  {
   "cell_type": "code",
   "execution_count": 6,
   "id": "cf38a62a",
   "metadata": {
    "execution": {
     "iopub.execute_input": "2022-07-06T16:11:21.781232Z",
     "iopub.status.busy": "2022-07-06T16:11:21.779343Z",
     "iopub.status.idle": "2022-07-06T16:11:23.762670Z",
     "shell.execute_reply": "2022-07-06T16:11:23.759292Z"
    },
    "papermill": {
     "duration": 2.087899,
     "end_time": "2022-07-06T16:11:23.762992",
     "exception": false,
     "start_time": "2022-07-06T16:11:21.675093",
     "status": "completed"
    },
    "tags": []
   },
   "outputs": [
    {
     "name": "stderr",
     "output_type": "stream",
     "text": [
      "Warning message:\n",
      "“model fit failed for Fold4: fraction=0.9 Error in elasticnet::enet(as.matrix(x), y, lambda = 0, ...) : \n",
      "  Some of the columns of x have zero variance\n",
      "”\n",
      "Warning message:\n",
      "“model fit failed for Fold5: fraction=0.9 Error in elasticnet::enet(as.matrix(x), y, lambda = 0, ...) : \n",
      "  Some of the columns of x have zero variance\n",
      "”\n",
      "Warning message in nominalTrainWorkflow(x = x, y = y, wts = weights, info = trainInfo, :\n",
      "“There were missing values in resampled performance measures.”\n"
     ]
    }
   ],
   "source": [
    "lasso_start = Sys.time()\n",
    "lasso_model = train(cty~., data = train,\n",
    "                 method = 'lasso',\n",
    "                 na.action = na.omit,\n",
    "                 trControl = trainControl(method = 'cv', number = 5))\n",
    "\n",
    "lasso_end = Sys.time()\n",
    "lasso_time = as.numeric(lasso_end - lasso_start)\n",
    "tahminlasso = predict(lasso_model, test)\n",
    "\n",
    "Lasso = data.frame(R2 = R2(tahminlasso, test$cty),\n",
    "                MAE = MAE(tahminlasso, test$cty),\n",
    "                RMSE = RMSE(tahminlasso, test$cty),\n",
    "                Time = lasso_time)\n",
    "rownames(Lasso) = \"Lasso\""
   ]
  },
  {
   "cell_type": "markdown",
   "id": "3380c550",
   "metadata": {
    "papermill": {
     "duration": 0.113046,
     "end_time": "2022-07-06T16:11:24.029667",
     "exception": false,
     "start_time": "2022-07-06T16:11:23.916621",
     "status": "completed"
    },
    "tags": []
   },
   "source": [
    "# Ridge Model"
   ]
  },
  {
   "cell_type": "code",
   "execution_count": 7,
   "id": "b456cbdf",
   "metadata": {
    "execution": {
     "iopub.execute_input": "2022-07-06T16:11:24.262786Z",
     "iopub.status.busy": "2022-07-06T16:11:24.259818Z",
     "iopub.status.idle": "2022-07-06T16:11:26.206329Z",
     "shell.execute_reply": "2022-07-06T16:11:26.202775Z"
    },
    "papermill": {
     "duration": 2.062731,
     "end_time": "2022-07-06T16:11:26.206704",
     "exception": false,
     "start_time": "2022-07-06T16:11:24.143973",
     "status": "completed"
    },
    "tags": []
   },
   "outputs": [
    {
     "name": "stderr",
     "output_type": "stream",
     "text": [
      "Warning message:\n",
      "“model fit failed for Fold1: lambda=0e+00 Error in elasticnet::enet(as.matrix(x), y, lambda = param$lambda) : \n",
      "  Some of the columns of x have zero variance\n",
      "”\n",
      "Warning message:\n",
      "“model fit failed for Fold1: lambda=1e-01 Error in elasticnet::enet(as.matrix(x), y, lambda = param$lambda) : \n",
      "  Some of the columns of x have zero variance\n",
      "”\n",
      "Warning message:\n",
      "“model fit failed for Fold1: lambda=1e-04 Error in elasticnet::enet(as.matrix(x), y, lambda = param$lambda) : \n",
      "  Some of the columns of x have zero variance\n",
      "”\n",
      "Warning message:\n",
      "“model fit failed for Fold2: lambda=0e+00 Error in elasticnet::enet(as.matrix(x), y, lambda = param$lambda) : \n",
      "  Some of the columns of x have zero variance\n",
      "”\n",
      "Warning message:\n",
      "“model fit failed for Fold2: lambda=1e-01 Error in elasticnet::enet(as.matrix(x), y, lambda = param$lambda) : \n",
      "  Some of the columns of x have zero variance\n",
      "”\n",
      "Warning message:\n",
      "“model fit failed for Fold2: lambda=1e-04 Error in elasticnet::enet(as.matrix(x), y, lambda = param$lambda) : \n",
      "  Some of the columns of x have zero variance\n",
      "”\n",
      "Warning message:\n",
      "“model fit failed for Fold3: lambda=0e+00 Error in if (zmin < gamhat) { : missing value where TRUE/FALSE needed\n",
      "”\n",
      "Warning message:\n",
      "“model fit failed for Fold4: lambda=0e+00 Error in elasticnet::enet(as.matrix(x), y, lambda = param$lambda) : \n",
      "  Some of the columns of x have zero variance\n",
      "”\n",
      "Warning message:\n",
      "“model fit failed for Fold4: lambda=1e-01 Error in elasticnet::enet(as.matrix(x), y, lambda = param$lambda) : \n",
      "  Some of the columns of x have zero variance\n",
      "”\n",
      "Warning message:\n",
      "“model fit failed for Fold4: lambda=1e-04 Error in elasticnet::enet(as.matrix(x), y, lambda = param$lambda) : \n",
      "  Some of the columns of x have zero variance\n",
      "”\n",
      "Warning message in nominalTrainWorkflow(x = x, y = y, wts = weights, info = trainInfo, :\n",
      "“There were missing values in resampled performance measures.”\n"
     ]
    }
   ],
   "source": [
    "R_start = Sys.time()\n",
    "R_model = train(cty~., data = train,\n",
    "                 method = 'ridge',\n",
    "                 trControl = trainControl(method = 'cv', number = 5))\n",
    "\n",
    "R_end = Sys.time()\n",
    "R_time = as.numeric(R_end - R_start)\n",
    "tahminR = predict(R_model, test)\n",
    "\n",
    "Ridge = data.frame(R2 = R2(tahminR, test$cty),\n",
    "                MAE = MAE(tahminR, test$cty),\n",
    "                RMSE = RMSE(tahminR, test$cty),\n",
    "                Time = R_time)\n",
    "rownames(Ridge) = 'Ridge'"
   ]
  },
  {
   "cell_type": "markdown",
   "id": "d21a5a17",
   "metadata": {
    "papermill": {
     "duration": 0.123161,
     "end_time": "2022-07-06T16:11:26.486278",
     "exception": false,
     "start_time": "2022-07-06T16:11:26.363117",
     "status": "completed"
    },
    "tags": []
   },
   "source": [
    "# PLS Model"
   ]
  },
  {
   "cell_type": "code",
   "execution_count": 8,
   "id": "1c8db314",
   "metadata": {
    "execution": {
     "iopub.execute_input": "2022-07-06T16:11:26.734567Z",
     "iopub.status.busy": "2022-07-06T16:11:26.731656Z",
     "iopub.status.idle": "2022-07-06T16:11:27.943177Z",
     "shell.execute_reply": "2022-07-06T16:11:27.939976Z"
    },
    "papermill": {
     "duration": 1.339259,
     "end_time": "2022-07-06T16:11:27.943639",
     "exception": false,
     "start_time": "2022-07-06T16:11:26.604380",
     "status": "completed"
    },
    "tags": []
   },
   "outputs": [],
   "source": [
    "Pls_start = Sys.time()\n",
    "Pls_model = train(cty~., data = train,\n",
    "                 method = 'pls',\n",
    "                 trControl = trainControl(method = 'cv', number = 5))\n",
    "\n",
    "Pls_end = Sys.time()\n",
    "Pls_time = as.numeric(Pls_end - Pls_start)\n",
    "tahminPls = predict(Pls_model, test)\n",
    "\n",
    "Pls = data.frame(R2 = R2(tahminPls, test$cty),\n",
    "                MAE = MAE(tahminPls, test$cty),\n",
    "                RMSE = RMSE(tahminPls, test$cty),\n",
    "                Time = Pls_time)\n",
    "rownames(Pls) = 'Partial least squares'\n"
   ]
  },
  {
   "cell_type": "markdown",
   "id": "a21b4cce",
   "metadata": {
    "papermill": {
     "duration": 0.117667,
     "end_time": "2022-07-06T16:11:28.227217",
     "exception": false,
     "start_time": "2022-07-06T16:11:28.109550",
     "status": "completed"
    },
    "tags": []
   },
   "source": [
    "# PCR Model"
   ]
  },
  {
   "cell_type": "code",
   "execution_count": 9,
   "id": "82e09623",
   "metadata": {
    "execution": {
     "iopub.execute_input": "2022-07-06T16:11:28.472325Z",
     "iopub.status.busy": "2022-07-06T16:11:28.470229Z",
     "iopub.status.idle": "2022-07-06T16:11:29.665279Z",
     "shell.execute_reply": "2022-07-06T16:11:29.661204Z"
    },
    "papermill": {
     "duration": 1.321661,
     "end_time": "2022-07-06T16:11:29.665622",
     "exception": false,
     "start_time": "2022-07-06T16:11:28.343961",
     "status": "completed"
    },
    "tags": []
   },
   "outputs": [],
   "source": [
    "Pcr_start = Sys.time()\n",
    "Pcr_model = train(cty~., data = train,\n",
    "                  method = 'pcr',\n",
    "                  trControl = trainControl(method = 'cv', number = 5))\n",
    "\n",
    "pcr_end = Sys.time()\n",
    "pcr_time = as.numeric(pcr_end - Pls_start)\n",
    "tahminPcr = predict(Pcr_model, test)\n",
    "\n",
    "Pcr = data.frame(R2 = R2(tahminPcr, test$cty),\n",
    "                 MAE = MAE(tahminPcr, test$cty),\n",
    "                 RMSE = RMSE(tahminPcr, test$cty),\n",
    "                 Time = pcr_time)\n",
    "rownames(Pcr) = 'Principal component regression'"
   ]
  },
  {
   "cell_type": "markdown",
   "id": "8106950c",
   "metadata": {
    "papermill": {
     "duration": 0.123231,
     "end_time": "2022-07-06T16:11:29.944284",
     "exception": false,
     "start_time": "2022-07-06T16:11:29.821053",
     "status": "completed"
    },
    "tags": []
   },
   "source": [
    "# KNN Model"
   ]
  },
  {
   "cell_type": "code",
   "execution_count": 10,
   "id": "05caf2d4",
   "metadata": {
    "execution": {
     "iopub.execute_input": "2022-07-06T16:11:30.185303Z",
     "iopub.status.busy": "2022-07-06T16:11:30.182504Z",
     "iopub.status.idle": "2022-07-06T16:11:31.077257Z",
     "shell.execute_reply": "2022-07-06T16:11:31.075034Z"
    },
    "papermill": {
     "duration": 1.0116,
     "end_time": "2022-07-06T16:11:31.077464",
     "exception": false,
     "start_time": "2022-07-06T16:11:30.065864",
     "status": "completed"
    },
    "tags": []
   },
   "outputs": [],
   "source": [
    "knn_start = Sys.time()\n",
    "knn_model = train(cty~., data = train,\n",
    "                  method = 'knn',\n",
    "                  trControl = trainControl(method = 'cv', number = 5))\n",
    "\n",
    "knn_end = Sys.time()\n",
    "knn_time = as.numeric(knn_end - knn_start)\n",
    "tahmin = predict(knn_model, test)\n",
    "\n",
    "knn = data.frame(R2 = R2(tahmin, test$cty),\n",
    "                 MAE = MAE(tahmin, test$cty),\n",
    "                 RMSE = RMSE(tahmin, test$cty),\n",
    "                 Time = knn_time)\n",
    "\n",
    "rownames(knn) = 'KNN'"
   ]
  },
  {
   "cell_type": "markdown",
   "id": "82c0643a",
   "metadata": {
    "papermill": {
     "duration": 0.112973,
     "end_time": "2022-07-06T16:11:31.305274",
     "exception": false,
     "start_time": "2022-07-06T16:11:31.192301",
     "status": "completed"
    },
    "tags": []
   },
   "source": [
    "# SVM Model"
   ]
  },
  {
   "cell_type": "code",
   "execution_count": 11,
   "id": "0859ad7a",
   "metadata": {
    "execution": {
     "iopub.execute_input": "2022-07-06T16:11:31.533437Z",
     "iopub.status.busy": "2022-07-06T16:11:31.531127Z",
     "iopub.status.idle": "2022-07-06T16:11:34.841808Z",
     "shell.execute_reply": "2022-07-06T16:11:34.838790Z"
    },
    "papermill": {
     "duration": 3.427488,
     "end_time": "2022-07-06T16:11:34.842104",
     "exception": false,
     "start_time": "2022-07-06T16:11:31.414616",
     "status": "completed"
    },
    "tags": []
   },
   "outputs": [
    {
     "name": "stderr",
     "output_type": "stream",
     "text": [
      "Warning message in .local(x, ...):\n",
      "“Variable(s) `' constant. Cannot scale data.”\n",
      "Warning message in .local(x, ...):\n",
      "“Variable(s) `' constant. Cannot scale data.”\n",
      "Warning message in .local(x, ...):\n",
      "“Variable(s) `' constant. Cannot scale data.”\n",
      "Warning message in .local(x, ...):\n",
      "“Variable(s) `' constant. Cannot scale data.”\n",
      "Warning message in .local(x, ...):\n",
      "“Variable(s) `' constant. Cannot scale data.”\n",
      "Warning message in .local(x, ...):\n",
      "“Variable(s) `' constant. Cannot scale data.”\n"
     ]
    }
   ],
   "source": [
    "SVM_start = Sys.time()\n",
    "SVM_model = train(cty~., data = train,\n",
    "                 method = 'svmRadial',\n",
    "                 trControl = trainControl(method = 'cv', number = 5))\n",
    "\n",
    "SVM_end = Sys.time()\n",
    "SVM_time = as.numeric(SVM_end - SVM_start)\n",
    "tahminSVM = predict(SVM_model, test)\n",
    "\n",
    "SVM = data.frame(R2 = R2(tahminSVM, test$cty),\n",
    "                MAE = MAE(tahminSVM, test$cty),\n",
    "                RMSE = RMSE(tahminSVM, test$cty),\n",
    "                Time = SVM_time)\n",
    "rownames(SVM) = 'SVM'\n"
   ]
  },
  {
   "cell_type": "markdown",
   "id": "0479ab5a",
   "metadata": {
    "papermill": {
     "duration": 0.12644,
     "end_time": "2022-07-06T16:11:35.176166",
     "exception": false,
     "start_time": "2022-07-06T16:11:35.049726",
     "status": "completed"
    },
    "tags": []
   },
   "source": [
    "# Random Forest Model"
   ]
  },
  {
   "cell_type": "code",
   "execution_count": 12,
   "id": "34116792",
   "metadata": {
    "execution": {
     "iopub.execute_input": "2022-07-06T16:11:35.443494Z",
     "iopub.status.busy": "2022-07-06T16:11:35.440410Z",
     "iopub.status.idle": "2022-07-06T16:11:43.774975Z",
     "shell.execute_reply": "2022-07-06T16:11:43.772567Z"
    },
    "papermill": {
     "duration": 8.474821,
     "end_time": "2022-07-06T16:11:43.775185",
     "exception": false,
     "start_time": "2022-07-06T16:11:35.300364",
     "status": "completed"
    },
    "tags": []
   },
   "outputs": [],
   "source": [
    "RF_start = Sys.time()\n",
    "RF_model = train(cty~., data = train,\n",
    "                 method = 'rf',\n",
    "                 trControl = trainControl(method = 'cv', number = 5))\n",
    "\n",
    "RF_end = Sys.time()\n",
    "RF_time = as.numeric(RF_end - RF_start)\n",
    "tahminrf = predict(RF_model, test)\n",
    "\n",
    "RF = data.frame(R2 = R2(tahminrf, test$cty),\n",
    "                MAE = MAE(tahminrf, test$cty),\n",
    "                RMSE = RMSE(tahminrf, test$cty),\n",
    "                Time = RF_time)\n",
    "rownames(RF) = 'RandomForest'"
   ]
  },
  {
   "cell_type": "markdown",
   "id": "9dd4ad56",
   "metadata": {
    "papermill": {
     "duration": 0.122884,
     "end_time": "2022-07-06T16:11:44.021239",
     "exception": false,
     "start_time": "2022-07-06T16:11:43.898355",
     "status": "completed"
    },
    "tags": []
   },
   "source": [
    "# CART Model"
   ]
  },
  {
   "cell_type": "code",
   "execution_count": 13,
   "id": "e7ed2559",
   "metadata": {
    "execution": {
     "iopub.execute_input": "2022-07-06T16:11:44.294908Z",
     "iopub.status.busy": "2022-07-06T16:11:44.293017Z",
     "iopub.status.idle": "2022-07-06T16:11:45.860408Z",
     "shell.execute_reply": "2022-07-06T16:11:45.857272Z"
    },
    "papermill": {
     "duration": 1.703324,
     "end_time": "2022-07-06T16:11:45.860737",
     "exception": false,
     "start_time": "2022-07-06T16:11:44.157413",
     "status": "completed"
    },
    "tags": []
   },
   "outputs": [
    {
     "name": "stderr",
     "output_type": "stream",
     "text": [
      "Warning message in nominalTrainWorkflow(x = x, y = y, wts = weights, info = trainInfo, :\n",
      "“There were missing values in resampled performance measures.”\n"
     ]
    }
   ],
   "source": [
    "C_start = Sys.time()\n",
    "C_model = train(cty~., data = train,\n",
    "                 method = 'rpart',\n",
    "                 trControl = trainControl(method = 'cv', number = 5))\n",
    "\n",
    "C_end = Sys.time()\n",
    "C_time = as.numeric(C_end - C_start)\n",
    "tahminC = predict(C_model, test)\n",
    "\n",
    "Cart = data.frame(R2 = R2(tahminC, test$cty),\n",
    "                MAE = MAE(tahminC, test$cty),\n",
    "                RMSE = RMSE(tahminC, test$cty),\n",
    "                Time = C_time)\n",
    "rownames(Cart) = 'CART'"
   ]
  },
  {
   "cell_type": "markdown",
   "id": "a1aa7fc3",
   "metadata": {
    "papermill": {
     "duration": 0.125334,
     "end_time": "2022-07-06T16:11:46.144935",
     "exception": false,
     "start_time": "2022-07-06T16:11:46.019601",
     "status": "completed"
    },
    "tags": []
   },
   "source": [
    "# XGBTREE Model"
   ]
  },
  {
   "cell_type": "code",
   "execution_count": 14,
   "id": "7cefb9f0",
   "metadata": {
    "execution": {
     "iopub.execute_input": "2022-07-06T16:11:46.400532Z",
     "iopub.status.busy": "2022-07-06T16:11:46.398354Z",
     "iopub.status.idle": "2022-07-06T16:12:01.310241Z",
     "shell.execute_reply": "2022-07-06T16:12:01.308431Z"
    },
    "papermill": {
     "duration": 15.038249,
     "end_time": "2022-07-06T16:12:01.310460",
     "exception": false,
     "start_time": "2022-07-06T16:11:46.272211",
     "status": "completed"
    },
    "tags": []
   },
   "outputs": [],
   "source": [
    "XGB_start = Sys.time()\n",
    "XGB_model = train(cty~., data = train,\n",
    "                 method = 'xgbTree',\n",
    "                 trControl = trainControl(method = 'cv', number = 5))\n",
    "\n",
    "XGB_end = Sys.time()\n",
    "XGB_time = as.numeric(XGB_end - XGB_start)\n",
    "tahminXGB = predict(XGB_model, test)\n",
    "\n",
    "XGB = data.frame(R2 = R2(tahminXGB, test$cty),\n",
    "                MAE = MAE(tahminXGB, test$cty),\n",
    "                RMSE = RMSE(tahminXGB, test$cty),\n",
    "                Time = XGB_time)\n",
    "rownames(XGB) = 'XgbTree'"
   ]
  },
  {
   "cell_type": "markdown",
   "id": "2414b572",
   "metadata": {
    "papermill": {
     "duration": 0.130558,
     "end_time": "2022-07-06T16:12:01.558034",
     "exception": false,
     "start_time": "2022-07-06T16:12:01.427476",
     "status": "completed"
    },
    "tags": []
   },
   "source": [
    "Bütün sonuçlarımızı birleştirelim"
   ]
  },
  {
   "cell_type": "code",
   "execution_count": 15,
   "id": "3e9fbd72",
   "metadata": {
    "execution": {
     "iopub.execute_input": "2022-07-06T16:12:01.817513Z",
     "iopub.status.busy": "2022-07-06T16:12:01.815311Z",
     "iopub.status.idle": "2022-07-06T16:12:01.852510Z",
     "shell.execute_reply": "2022-07-06T16:12:01.850455Z"
    },
    "papermill": {
     "duration": 0.165157,
     "end_time": "2022-07-06T16:12:01.852714",
     "exception": false,
     "start_time": "2022-07-06T16:12:01.687557",
     "status": "completed"
    },
    "tags": []
   },
   "outputs": [
    {
     "data": {
      "text/html": [
       "<table class=\"dataframe\">\n",
       "<caption>A data.frame: 10 × 4</caption>\n",
       "<thead>\n",
       "\t<tr><th></th><th scope=col>R2</th><th scope=col>MAE</th><th scope=col>RMSE</th><th scope=col>Time</th></tr>\n",
       "\t<tr><th></th><th scope=col>&lt;dbl&gt;</th><th scope=col>&lt;dbl&gt;</th><th scope=col>&lt;dbl&gt;</th><th scope=col>&lt;dbl&gt;</th></tr>\n",
       "</thead>\n",
       "<tbody>\n",
       "\t<tr><th scope=row>LinearModel</th><td>0.9205440</td><td>0.9534646</td><td>1.212376</td><td> 1.0956013</td></tr>\n",
       "\t<tr><th scope=row>Lasso</th><td>0.7048675</td><td>1.6764454</td><td>2.960005</td><td> 1.9276955</td></tr>\n",
       "\t<tr><th scope=row>Ridge</th><td>0.9322373</td><td>0.8705380</td><td>1.107316</td><td> 1.8893993</td></tr>\n",
       "\t<tr><th scope=row>Partial least squares</th><td>0.9338042</td><td>0.8611106</td><td>1.079692</td><td> 1.1515598</td></tr>\n",
       "\t<tr><th scope=row>Principal component regression</th><td>0.9326192</td><td>0.8377937</td><td>1.073957</td><td> 2.8716326</td></tr>\n",
       "\t<tr><th scope=row>KNN</th><td>0.9152363</td><td>0.8422492</td><td>1.227772</td><td> 0.8565326</td></tr>\n",
       "\t<tr><th scope=row>SVM</th><td>0.7949561</td><td>1.1706389</td><td>2.037794</td><td> 3.2574952</td></tr>\n",
       "\t<tr><th scope=row>RandomForest</th><td>0.9416602</td><td>0.7390092</td><td>1.038782</td><td> 8.2906361</td></tr>\n",
       "\t<tr><th scope=row>CART</th><td>0.7405199</td><td>1.6463683</td><td>2.131761</td><td> 1.4979632</td></tr>\n",
       "\t<tr><th scope=row>XgbTree</th><td>0.9280720</td><td>0.8445458</td><td>1.192520</td><td>14.8707221</td></tr>\n",
       "</tbody>\n",
       "</table>\n"
      ],
      "text/latex": [
       "A data.frame: 10 × 4\n",
       "\\begin{tabular}{r|llll}\n",
       "  & R2 & MAE & RMSE & Time\\\\\n",
       "  & <dbl> & <dbl> & <dbl> & <dbl>\\\\\n",
       "\\hline\n",
       "\tLinearModel & 0.9205440 & 0.9534646 & 1.212376 &  1.0956013\\\\\n",
       "\tLasso & 0.7048675 & 1.6764454 & 2.960005 &  1.9276955\\\\\n",
       "\tRidge & 0.9322373 & 0.8705380 & 1.107316 &  1.8893993\\\\\n",
       "\tPartial least squares & 0.9338042 & 0.8611106 & 1.079692 &  1.1515598\\\\\n",
       "\tPrincipal component regression & 0.9326192 & 0.8377937 & 1.073957 &  2.8716326\\\\\n",
       "\tKNN & 0.9152363 & 0.8422492 & 1.227772 &  0.8565326\\\\\n",
       "\tSVM & 0.7949561 & 1.1706389 & 2.037794 &  3.2574952\\\\\n",
       "\tRandomForest & 0.9416602 & 0.7390092 & 1.038782 &  8.2906361\\\\\n",
       "\tCART & 0.7405199 & 1.6463683 & 2.131761 &  1.4979632\\\\\n",
       "\tXgbTree & 0.9280720 & 0.8445458 & 1.192520 & 14.8707221\\\\\n",
       "\\end{tabular}\n"
      ],
      "text/markdown": [
       "\n",
       "A data.frame: 10 × 4\n",
       "\n",
       "| <!--/--> | R2 &lt;dbl&gt; | MAE &lt;dbl&gt; | RMSE &lt;dbl&gt; | Time &lt;dbl&gt; |\n",
       "|---|---|---|---|---|\n",
       "| LinearModel | 0.9205440 | 0.9534646 | 1.212376 |  1.0956013 |\n",
       "| Lasso | 0.7048675 | 1.6764454 | 2.960005 |  1.9276955 |\n",
       "| Ridge | 0.9322373 | 0.8705380 | 1.107316 |  1.8893993 |\n",
       "| Partial least squares | 0.9338042 | 0.8611106 | 1.079692 |  1.1515598 |\n",
       "| Principal component regression | 0.9326192 | 0.8377937 | 1.073957 |  2.8716326 |\n",
       "| KNN | 0.9152363 | 0.8422492 | 1.227772 |  0.8565326 |\n",
       "| SVM | 0.7949561 | 1.1706389 | 2.037794 |  3.2574952 |\n",
       "| RandomForest | 0.9416602 | 0.7390092 | 1.038782 |  8.2906361 |\n",
       "| CART | 0.7405199 | 1.6463683 | 2.131761 |  1.4979632 |\n",
       "| XgbTree | 0.9280720 | 0.8445458 | 1.192520 | 14.8707221 |\n",
       "\n"
      ],
      "text/plain": [
       "                               R2        MAE       RMSE     Time      \n",
       "LinearModel                    0.9205440 0.9534646 1.212376  1.0956013\n",
       "Lasso                          0.7048675 1.6764454 2.960005  1.9276955\n",
       "Ridge                          0.9322373 0.8705380 1.107316  1.8893993\n",
       "Partial least squares          0.9338042 0.8611106 1.079692  1.1515598\n",
       "Principal component regression 0.9326192 0.8377937 1.073957  2.8716326\n",
       "KNN                            0.9152363 0.8422492 1.227772  0.8565326\n",
       "SVM                            0.7949561 1.1706389 2.037794  3.2574952\n",
       "RandomForest                   0.9416602 0.7390092 1.038782  8.2906361\n",
       "CART                           0.7405199 1.6463683 2.131761  1.4979632\n",
       "XgbTree                        0.9280720 0.8445458 1.192520 14.8707221"
      ]
     },
     "metadata": {},
     "output_type": "display_data"
    }
   ],
   "source": [
    "Sonuc = rbind(Lm, Lasso, Ridge, Pls, Pcr, knn, SVM, RF, Cart, XGB)\n",
    "Sonuc"
   ]
  },
  {
   "cell_type": "markdown",
   "id": "d8d2eb0b",
   "metadata": {
    "papermill": {
     "duration": 0.126696,
     "end_time": "2022-07-06T16:12:02.106239",
     "exception": false,
     "start_time": "2022-07-06T16:12:01.979543",
     "status": "completed"
    },
    "tags": []
   },
   "source": [
    "# AHP-TOPSİS"
   ]
  },
  {
   "cell_type": "markdown",
   "id": "424d0776",
   "metadata": {
    "papermill": {
     "duration": 0.127038,
     "end_time": "2022-07-06T16:12:02.354511",
     "exception": false,
     "start_time": "2022-07-06T16:12:02.227473",
     "status": "completed"
    },
    "tags": []
   },
   "source": [
    "Ve şimdi sonuçları Çok Kriterli Karar Verme tekniklerinden AHP ve TOPSİS yardımıyla en iyiden en kötüye sıralayacağız"
   ]
  },
  {
   "cell_type": "code",
   "execution_count": 16,
   "id": "4b67cc8e",
   "metadata": {
    "execution": {
     "iopub.execute_input": "2022-07-06T16:12:02.605769Z",
     "iopub.status.busy": "2022-07-06T16:12:02.603820Z",
     "iopub.status.idle": "2022-07-06T16:12:02.661130Z",
     "shell.execute_reply": "2022-07-06T16:12:02.658377Z"
    },
    "papermill": {
     "duration": 0.184711,
     "end_time": "2022-07-06T16:12:02.661338",
     "exception": false,
     "start_time": "2022-07-06T16:12:02.476627",
     "status": "completed"
    },
    "tags": []
   },
   "outputs": [
    {
     "data": {
      "text/html": [
       "<ol>\n",
       "\t<li><table class=\"dataframe\">\n",
       "<caption>A matrix: 1 × 1 of type dbl</caption>\n",
       "<tbody>\n",
       "\t<tr><td>0</td></tr>\n",
       "</tbody>\n",
       "</table>\n",
       "</li>\n",
       "\t<li><table class=\"dataframe\">\n",
       "<caption>A data.frame: 10 × 2</caption>\n",
       "<thead>\n",
       "\t<tr><th></th><th scope=col>values</th><th scope=col>ranking</th></tr>\n",
       "\t<tr><th></th><th scope=col>&lt;dbl&gt;</th><th scope=col>&lt;dbl&gt;</th></tr>\n",
       "</thead>\n",
       "<tbody>\n",
       "\t<tr><th scope=row>LinearModel</th><td>0.9232733</td><td> 3</td></tr>\n",
       "\t<tr><th scope=row>Lasso</th><td>0.6041827</td><td> 8</td></tr>\n",
       "\t<tr><th scope=row>Ridge</th><td>0.9231556</td><td> 4</td></tr>\n",
       "\t<tr><th scope=row>Partial least squares</th><td>0.9568676</td><td> 1</td></tr>\n",
       "\t<tr><th scope=row>Principal component regression</th><td>0.8738260</td><td> 5</td></tr>\n",
       "\t<tr><th scope=row>KNN</th><td>0.9484325</td><td> 2</td></tr>\n",
       "\t<tr><th scope=row>SVM</th><td>0.7168319</td><td> 6</td></tr>\n",
       "\t<tr><th scope=row>RandomForest</th><td>0.5895821</td><td> 9</td></tr>\n",
       "\t<tr><th scope=row>CART</th><td>0.6874227</td><td> 7</td></tr>\n",
       "\t<tr><th scope=row>XgbTree</th><td>0.3529064</td><td>10</td></tr>\n",
       "</tbody>\n",
       "</table>\n",
       "</li>\n",
       "\t<li><table class=\"dataframe\">\n",
       "<caption>A data.frame: 10 × 2</caption>\n",
       "<thead>\n",
       "\t<tr><th></th><th scope=col>values</th><th scope=col>ranking</th></tr>\n",
       "\t<tr><th></th><th scope=col>&lt;dbl&gt;</th><th scope=col>&lt;dbl&gt;</th></tr>\n",
       "</thead>\n",
       "<tbody>\n",
       "\t<tr><th scope=row>LinearModel</th><td>0.8724814</td><td> 5</td></tr>\n",
       "\t<tr><th scope=row>Lasso</th><td>0.3475577</td><td>10</td></tr>\n",
       "\t<tr><th scope=row>Ridge</th><td>0.9173811</td><td> 2</td></tr>\n",
       "\t<tr><th scope=row>Partial least squares</th><td>0.9323993</td><td> 1</td></tr>\n",
       "\t<tr><th scope=row>Principal component regression</th><td>0.9098798</td><td> 3</td></tr>\n",
       "\t<tr><th scope=row>KNN</th><td>0.9087061</td><td> 4</td></tr>\n",
       "\t<tr><th scope=row>SVM</th><td>0.5513931</td><td> 8</td></tr>\n",
       "\t<tr><th scope=row>RandomForest</th><td>0.7718442</td><td> 6</td></tr>\n",
       "\t<tr><th scope=row>CART</th><td>0.4290121</td><td> 9</td></tr>\n",
       "\t<tr><th scope=row>XgbTree</th><td>0.6110061</td><td> 7</td></tr>\n",
       "</tbody>\n",
       "</table>\n",
       "</li>\n",
       "</ol>\n"
      ],
      "text/latex": [
       "\\begin{enumerate}\n",
       "\\item A matrix: 1 × 1 of type dbl\n",
       "\\begin{tabular}{l}\n",
       "\t 0\\\\\n",
       "\\end{tabular}\n",
       "\n",
       "\\item A data.frame: 10 × 2\n",
       "\\begin{tabular}{r|ll}\n",
       "  & values & ranking\\\\\n",
       "  & <dbl> & <dbl>\\\\\n",
       "\\hline\n",
       "\tLinearModel & 0.9232733 &  3\\\\\n",
       "\tLasso & 0.6041827 &  8\\\\\n",
       "\tRidge & 0.9231556 &  4\\\\\n",
       "\tPartial least squares & 0.9568676 &  1\\\\\n",
       "\tPrincipal component regression & 0.8738260 &  5\\\\\n",
       "\tKNN & 0.9484325 &  2\\\\\n",
       "\tSVM & 0.7168319 &  6\\\\\n",
       "\tRandomForest & 0.5895821 &  9\\\\\n",
       "\tCART & 0.6874227 &  7\\\\\n",
       "\tXgbTree & 0.3529064 & 10\\\\\n",
       "\\end{tabular}\n",
       "\n",
       "\\item A data.frame: 10 × 2\n",
       "\\begin{tabular}{r|ll}\n",
       "  & values & ranking\\\\\n",
       "  & <dbl> & <dbl>\\\\\n",
       "\\hline\n",
       "\tLinearModel & 0.8724814 &  5\\\\\n",
       "\tLasso & 0.3475577 & 10\\\\\n",
       "\tRidge & 0.9173811 &  2\\\\\n",
       "\tPartial least squares & 0.9323993 &  1\\\\\n",
       "\tPrincipal component regression & 0.9098798 &  3\\\\\n",
       "\tKNN & 0.9087061 &  4\\\\\n",
       "\tSVM & 0.5513931 &  8\\\\\n",
       "\tRandomForest & 0.7718442 &  6\\\\\n",
       "\tCART & 0.4290121 &  9\\\\\n",
       "\tXgbTree & 0.6110061 &  7\\\\\n",
       "\\end{tabular}\n",
       "\n",
       "\\end{enumerate}\n"
      ],
      "text/markdown": [
       "1. \n",
       "A matrix: 1 × 1 of type dbl\n",
       "\n",
       "| 0 |\n",
       "\n",
       "\n",
       "2. \n",
       "A data.frame: 10 × 2\n",
       "\n",
       "| <!--/--> | values &lt;dbl&gt; | ranking &lt;dbl&gt; |\n",
       "|---|---|---|\n",
       "| LinearModel | 0.9232733 |  3 |\n",
       "| Lasso | 0.6041827 |  8 |\n",
       "| Ridge | 0.9231556 |  4 |\n",
       "| Partial least squares | 0.9568676 |  1 |\n",
       "| Principal component regression | 0.8738260 |  5 |\n",
       "| KNN | 0.9484325 |  2 |\n",
       "| SVM | 0.7168319 |  6 |\n",
       "| RandomForest | 0.5895821 |  9 |\n",
       "| CART | 0.6874227 |  7 |\n",
       "| XgbTree | 0.3529064 | 10 |\n",
       "\n",
       "\n",
       "3. \n",
       "A data.frame: 10 × 2\n",
       "\n",
       "| <!--/--> | values &lt;dbl&gt; | ranking &lt;dbl&gt; |\n",
       "|---|---|---|\n",
       "| LinearModel | 0.8724814 |  5 |\n",
       "| Lasso | 0.3475577 | 10 |\n",
       "| Ridge | 0.9173811 |  2 |\n",
       "| Partial least squares | 0.9323993 |  1 |\n",
       "| Principal component regression | 0.9098798 |  3 |\n",
       "| KNN | 0.9087061 |  4 |\n",
       "| SVM | 0.5513931 |  8 |\n",
       "| RandomForest | 0.7718442 |  6 |\n",
       "| CART | 0.4290121 |  9 |\n",
       "| XgbTree | 0.6110061 |  7 |\n",
       "\n",
       "\n",
       "\n",
       "\n"
      ],
      "text/plain": [
       "[[1]]\n",
       "     [,1]\n",
       "[1,]    0\n",
       "\n",
       "[[2]]\n",
       "                                  values ranking\n",
       "LinearModel                    0.9232733       3\n",
       "Lasso                          0.6041827       8\n",
       "Ridge                          0.9231556       4\n",
       "Partial least squares          0.9568676       1\n",
       "Principal component regression 0.8738260       5\n",
       "KNN                            0.9484325       2\n",
       "SVM                            0.7168319       6\n",
       "RandomForest                   0.5895821       9\n",
       "CART                           0.6874227       7\n",
       "XgbTree                        0.3529064      10\n",
       "\n",
       "[[3]]\n",
       "                                  values ranking\n",
       "LinearModel                    0.8724814       5\n",
       "Lasso                          0.3475577      10\n",
       "Ridge                          0.9173811       2\n",
       "Partial least squares          0.9323993       1\n",
       "Principal component regression 0.9098798       3\n",
       "KNN                            0.9087061       4\n",
       "SVM                            0.5513931       8\n",
       "RandomForest                   0.7718442       6\n",
       "CART                           0.4290121       9\n",
       "XgbTree                        0.6110061       7\n"
      ]
     },
     "metadata": {},
     "output_type": "display_data"
    }
   ],
   "source": [
    "criteria = matrix(c(1,1, 1, 1,\n",
    "                    1, 1, 1, 1,\n",
    "                    1, 1, 1, 1,\n",
    "                    1, 1, 1, 1\n",
    "                    ), ncol = 4, byrow =TRUE)\n",
    "\n",
    "\n",
    "AHPTOPSIS = ahptopsis2n(as.matrix(Sonuc), criteria, c('max', 'min', 'min', 'min'))\n",
    "AHPTOPSIS"
   ]
  },
  {
   "cell_type": "markdown",
   "id": "c3fcfdc6",
   "metadata": {
    "papermill": {
     "duration": 0.132887,
     "end_time": "2022-07-06T16:12:02.927859",
     "exception": false,
     "start_time": "2022-07-06T16:12:02.794972",
     "status": "completed"
    },
    "tags": []
   },
   "source": [
    "Son tabloya baktığımız zaman en iyi modelin Partial Least Squares (Kısmi En Küçük Kareler Regresyonu) olduğunu görüyoruz. Sadece topsise göre bir değerlendirme yaptığımız zamanda sıralamada birincinin PLS modeli olduğunu görüyoruz. Ancak burda dikkat edilmesi gereken bir noktada her kriterin ağırlığını 0,25 olarak değerlendirdik. Yani modelin çalışma hızı ile doğruluk oranını beraber tutduk. Bu yüzden XGB ve RandomForest algorıtmaları doğruluk oranları yüksek olmasına rağmen çalışma hızı yavaş oldukları için alt sıralara itildi. Metriklere ayrı ayrı olarak ağırlıklar koyarakda bir hesaplama yapılabilir.\n",
    "\n",
    "Görüş ve önerileriniz için şimdiden teşekkürler"
   ]
  }
 ],
 "metadata": {
  "kernelspec": {
   "display_name": "R",
   "language": "R",
   "name": "ir"
  },
  "language_info": {
   "codemirror_mode": "r",
   "file_extension": ".r",
   "mimetype": "text/x-r-source",
   "name": "R",
   "pygments_lexer": "r",
   "version": "4.0.5"
  },
  "papermill": {
   "default_parameters": {},
   "duration": 53.208912,
   "end_time": "2022-07-06T16:12:03.171930",
   "environment_variables": {},
   "exception": null,
   "input_path": "__notebook__.ipynb",
   "output_path": "__notebook__.ipynb",
   "parameters": {},
   "start_time": "2022-07-06T16:11:09.963018",
   "version": "2.3.3"
  }
 },
 "nbformat": 4,
 "nbformat_minor": 5
}
